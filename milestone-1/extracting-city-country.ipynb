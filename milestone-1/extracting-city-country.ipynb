{
 "cells": [
  {
   "cell_type": "markdown",
   "source": [
    "Possible problems:\n",
    "\n",
    "- \"Geneve Scientists Battle to Find Cure\"\n",
    "- \"New Los Angeles Hairstyle goes Viral\"\n",
    "- \"Scientists in Paris to look for answers\"\n",
    "\n",
    "Matching city and countries with regular expressions."
   ],
   "metadata": {
    "collapsed": false
   }
  },
  {
   "cell_type": "code",
   "execution_count": 116,
   "outputs": [
    {
     "name": "stdout",
     "output_type": "stream",
     "text": [
      "                                              headline      countries  \\\n",
      "0                             Zika Outbreak Hits Miami  United States   \n",
      "1                      Could Zika Reach New York City?  United States   \n",
      "2                    First Case of Zika in Miami Beach  United States   \n",
      "3              Mystery Virus Spreads in Recife, Brazil         Brazil   \n",
      "4              Dallas man comes down with case of Zika  United States   \n",
      "..                                                 ...            ...   \n",
      "580  Rumors about Rabies spreading in Jerusalem hav...         Israel   \n",
      "581              More Zika patients reported in Indang    Philippines   \n",
      "582  Suva authorities confirmed the spread of Rotav...           Fiji   \n",
      "583         More Zika patients reported in Bella Vista      Argentina   \n",
      "584                     Zika Outbreak in Wichita Falls  United States   \n",
      "\n",
      "            cities  \n",
      "0            Miami  \n",
      "1    New York City  \n",
      "2            Miami  \n",
      "3           Recife  \n",
      "4           Dallas  \n",
      "..             ...  \n",
      "580      Jerusalem  \n",
      "581         Indang  \n",
      "582           Suva  \n",
      "583    Bella Vista  \n",
      "584        Wichita  \n",
      "\n",
      "[585 rows x 3 columns]\n"
     ]
    }
   ],
   "source": [
    "import re\n",
    "import geonamescache\n",
    "import pandas as pd\n",
    "from io import StringIO\n",
    "from shutil import copyfileobj\n",
    "import csv\n",
    "\n",
    "gc = geonamescache.GeonamesCache()\n",
    "cities = [city.get(\"name\") for city in gc.get_cities().values()]\n",
    "regex_cities = '|'.join(cities)\n",
    "regex = re.compile(r\"\\b\"+\"(\"+regex_cities+\")\"+r\"\\b\")\n",
    "\n",
    "out = StringIO()\n",
    "writer = csv.writer(out, delimiter=',', quoting=csv.QUOTE_NONNUMERIC)\n",
    "\n",
    "\n",
    "def find_country_by_city(city):\n",
    "    countrycode = list(gc.get_cities_by_name(city)[0].values())[0].get(\"countrycode\")\n",
    "    return gc.get_countries().get(countrycode).get(\"name\")\n",
    "\n",
    "with open('../data/headlines.txt','r') as file:\n",
    "    writer.writerow([\"headline\", \"countries\", \"cities\"])\n",
    "    for headline in file:\n",
    "        match = regex.search(headline)\n",
    "        if match:\n",
    "            start, end = match.start(), match.end()\n",
    "            city = headline[start: end]\n",
    "            country = find_country_by_city(city)\n",
    "            line = headline.replace(\"\\n\",\"\")\n",
    "            writer.writerow([line, country, city ])\n",
    "\n",
    "# Save as a dataframe\n",
    "out.seek(0)\n",
    "df = pd.read_csv(out)\n",
    "print(df)\n",
    "\n",
    "# Save to a CSV file just in case\n",
    "with open('../data/headlines.csv', 'w') as file:\n",
    "    out.seek(0)\n",
    "    copyfileobj(out, file)"
   ],
   "metadata": {
    "collapsed": false,
    "pycharm": {
     "name": "#%%\n"
    }
   }
  }
 ],
 "metadata": {
  "kernelspec": {
   "display_name": "Python 3",
   "language": "python",
   "name": "python3"
  },
  "language_info": {
   "codemirror_mode": {
    "name": "ipython",
    "version": 2
   },
   "file_extension": ".py",
   "mimetype": "text/x-python",
   "name": "python",
   "nbconvert_exporter": "python",
   "pygments_lexer": "ipython2",
   "version": "2.7.6"
  }
 },
 "nbformat": 4,
 "nbformat_minor": 0
}